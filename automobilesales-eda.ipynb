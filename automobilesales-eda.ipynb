{
 "cells": [
  {
   "cell_type": "code",
   "execution_count": null,
   "metadata": {
    "_cell_guid": "b1076dfc-b9ad-4769-8c92-a6c4dae69d19",
    "_uuid": "8f2839f25d086af736a60e9eeb907d3b93b6e0e5"
   },
   "outputs": [],
   "source": [
    "# This Python 3 environment comes with many helpful analytics libraries installed\n",
    "# It is defined by the kaggle/python Docker image: https://github.com/kaggle/docker-python\n",
    "# For example, here's several helpful packages to load\n",
    "\n",
    "import numpy as np # linear algebra\n",
    "import pandas as pd # data processing, CSV file I/O (e.g. pd.read_csv)\n",
    "\n",
    "# Input data files are available in the read-only \"../input/\" directory\n",
    "# For example, running this (by clicking run or pressing Shift+Enter) will list all files under the input directory\n",
    "\n",
    "import os\n",
    "for dirname, _, filenames in os.walk('/kaggle/input'):\n",
    "    for filename in filenames:\n",
    "        print(os.path.join(dirname, filename))\n",
    "\n",
    "# You can write up to 20GB to the current directory (/kaggle/working/) that gets preserved as output when you create a version using \"Save & Run All\" \n",
    "# You can also write temporary files to /kaggle/temp/, but they won't be saved outside of the current session"
   ]
  },
  {
   "cell_type": "markdown",
   "metadata": {},
   "source": [
    "# About Dataset\n",
    "#### The dataset contains Sales data of an Automobile company.\n",
    "\n",
    "## Data Description\n",
    "\n",
    "|Column Name|Description|\n",
    "|----|----|\n",
    "|ORDERNUMBER|This column represents the unique identification number assigned to each order.|\n",
    "|QUANTITYORDERED|It indicates the number of items ordered in each order.|\n",
    "|PRICEEACH|This column specifies the price of each item in the order.|\n",
    "|ORDERLINENUMBER|It represents the line number of each item within an order.|\n",
    "|SALES|This column denotes the total sales amount for each order, which is calculated by multiplying the quantity ordered by the price of each item.|\n",
    "|ORDERDATE|It denotes the date on which the order was placed.|\n",
    "|DAYS_SINCE_LASTORDER|This column represents the number of days that have passed since the last order for each customer. It can be used to analyze customer purchasing patterns.|\n",
    "|STATUS|It indicates the status of the order, such as \"Shipped,\" \"In Process,\" \"Cancelled,\" \"Disputed,\" \"On Hold,\" or \"Resolved.\"|\n",
    "|PRODUCTLINE|This column specifies the product line categories to which each item belongs.|\n",
    "|MSRP|It stands for Manufacturer's Suggested Retail Price and represents the suggested selling price for each item.|\n",
    "|PRODUCTCODE|This column represents the unique code assigned to each product.|\n",
    "|CUSTOMERNAME|It denotes the name of the customer who placed the order.|\n",
    "|PHONE|This column contains the contact phone number for the customer.|\n",
    "|ADDRESSLINE1|It represents the first line of the customer's address.|\n",
    "|CITY|This column specifies the city where the customer is located.|\n",
    "|POSTALCODE|It denotes the postal code or ZIP code associated with the customer's address.|\n",
    "|COUNTRY|This column indicates the country where the customer is located.|\n",
    "|CONTACTLASTNAME|It represents the last name of the contact person associated with the customer.|\n",
    "|CONTACTFIRSTNAME|This column denotes the first name of the contact person associated with the customer.|\n",
    "|DEALSIZE|It indicates the size of the deal or order, which are the categories \"Small,\" \"Medium,\" or \"Large.\"|"
   ]
  },
  {
   "cell_type": "code",
   "execution_count": null,
   "metadata": {},
   "outputs": [],
   "source": [
    "# other libraries required for EDA\n",
    "\n",
    "from datetime import datetime\n",
    "import matplotlib.pyplot as plt\n",
    "import seaborn as sns\n",
    "\n",
    "import warnings\n",
    "warnings.filterwarnings(\"ignore\")\n",
    "\n",
    "sns.set() # setting seaborn as default style"
   ]
  },
  {
   "cell_type": "code",
   "execution_count": null,
   "metadata": {},
   "outputs": [],
   "source": [
    "# read the dataset in pandas Dataframe\n",
    "\n",
    "# dateparser\n",
    "dateparser = lambda x : datetime.strptime(x, \"%d/%m/%Y\")\n",
    "\n",
    "# read csv in pandas Dataframe. Change the datatype to datetime and column name of order date (ORDERDATE) column\n",
    "df_autosales = pd.read_csv(\"/kaggle/input/auto-sales-data/Auto Sales data.csv\", \\\n",
    "                           parse_dates = {\"order_date\" : [\"ORDERDATE\"]}, date_parser = dateparser)"
   ]
  },
  {
   "cell_type": "code",
   "execution_count": null,
   "metadata": {},
   "outputs": [],
   "source": [
    "# glance of the dataset\n",
    "df_autosales.head()"
   ]
  },
  {
   "cell_type": "code",
   "execution_count": null,
   "metadata": {},
   "outputs": [],
   "source": [
    "# list of columns name\n",
    "df_autosales.columns.tolist()"
   ]
  },
  {
   "cell_type": "code",
   "execution_count": null,
   "metadata": {},
   "outputs": [],
   "source": [
    "# creating a new column order year and converting the values of order date column to \"monthname year\"\n",
    "df_autosales[\"order_year\"] = df_autosales[\"order_date\"].dt.year\n",
    "df_autosales[\"order_date\"] = df_autosales[\"order_date\"].dt.strftime(\"%b %Y\")\n",
    "df_autosales.head()"
   ]
  },
  {
   "cell_type": "code",
   "execution_count": null,
   "metadata": {},
   "outputs": [],
   "source": [
    "# drop columns which are not required\n",
    "df_autosales.drop(columns=[\"ORDERNUMBER\", \"PRICEEACH\", \"ORDERLINENUMBER\", \"MSRP\", \\\n",
    "                           \"PRODUCTCODE\", \"PHONE\", \"ADDRESSLINE1\", \"CITY\", \"POSTALCODE\", \\\n",
    "                           \"DAYS_SINCE_LASTORDER\", \"CONTACTLASTNAME\", \"CONTACTFIRSTNAME\"], inplace=True)"
   ]
  },
  {
   "cell_type": "code",
   "execution_count": null,
   "metadata": {},
   "outputs": [],
   "source": [
    "# creating a new column from the values of customer name column and country\n",
    "df_autosales[\"customer\"] = df_autosales[\"CUSTOMERNAME\"] + \" (\" + df_autosales[\"COUNTRY\"] + \")\"\n",
    "df_autosales.drop(columns=[\"CUSTOMERNAME\", \"COUNTRY\"], inplace = True)"
   ]
  },
  {
   "cell_type": "code",
   "execution_count": null,
   "metadata": {},
   "outputs": [],
   "source": [
    "# rename columns\n",
    "df_autosales.rename(columns={\"QUANTITYORDERED\": \"order_quantity\", \"SALES\": \"sales_amount\", \\\n",
    "                             \"STATUS\": \"order_status\", \"PRODUCTLINE\": \"productline\", \\\n",
    "                             \"DEALSIZE\": \"dealsize\"}, inplace = True)"
   ]
  },
  {
   "cell_type": "code",
   "execution_count": null,
   "metadata": {},
   "outputs": [],
   "source": [
    "# find total null values in each column\n",
    "df_autosales.isnull().sum()"
   ]
  },
  {
   "cell_type": "code",
   "execution_count": null,
   "metadata": {},
   "outputs": [],
   "source": [
    "# find duplicate records\n",
    "df_autosales.duplicated().sum()"
   ]
  },
  {
   "cell_type": "code",
   "execution_count": null,
   "metadata": {},
   "outputs": [],
   "source": [
    "# rearrange the columns\n",
    "df_autosales = df_autosales[[\"customer\", \"order_date\", \"order_year\", \"order_quantity\", \"productline\", \\\n",
    "                 \"sales_amount\", \"dealsize\", \"order_status\"]]"
   ]
  },
  {
   "cell_type": "code",
   "execution_count": null,
   "metadata": {},
   "outputs": [],
   "source": [
    "# final dataframe details\n",
    "df_autosales.info()"
   ]
  },
  {
   "cell_type": "markdown",
   "metadata": {},
   "source": [
    "##### Breakup of final dataframe details"
   ]
  },
  {
   "cell_type": "code",
   "execution_count": null,
   "metadata": {},
   "outputs": [],
   "source": [
    "# final dataframe shape\n",
    "df_autosales.shape"
   ]
  },
  {
   "cell_type": "code",
   "execution_count": null,
   "metadata": {},
   "outputs": [],
   "source": [
    "# final dataframe datatype\n",
    "df_autosales.dtypes"
   ]
  },
  {
   "cell_type": "code",
   "execution_count": null,
   "metadata": {},
   "outputs": [],
   "source": [
    "# statistical view of the final dataframe\n",
    "df_autosales.describe(include = \"all\")"
   ]
  },
  {
   "cell_type": "markdown",
   "metadata": {},
   "source": [
    "# Descriptive Analytics\n",
    "## Plots for each customers in the dataset:\n",
    "* date wise productline orders\n",
    "* year wise sales amount\n",
    "* year wise sales amount percentage\n",
    "* date wise productline orders dealsize count\n",
    "* date wise productline orders status count"
   ]
  },
  {
   "cell_type": "code",
   "execution_count": null,
   "metadata": {},
   "outputs": [],
   "source": [
    "customers = pd.unique(df_autosales[\"customer\"]).tolist()\n",
    "\n",
    "for customer in customers:\n",
    "    print(\"\\033[1m\",customer,\"\\033[0m.\")\n",
    "    customer_df = df_autosales[df_autosales[\"customer\"] == customer]\n",
    "    plt.figure(figsize=(21, 15))\n",
    "    datewise_orders = customer_df.groupby([\"order_date\", \"productline\"], as_index = False)[\"order_quantity\"].sum()\n",
    "    datewise_orders[\"productordered_datewise\"] = datewise_orders[\"productline\"] + \" (\" + datewise_orders[\"order_date\"] + \")\"\n",
    "    datewise_orders.drop(columns=[\"order_date\", \"productline\"], inplace = True)\n",
    "    datewise_orders = datewise_orders[[\"productordered_datewise\", \"order_quantity\"]]\n",
    "    sns.barplot(x=datewise_orders[\"productordered_datewise\"], y=datewise_orders[\"order_quantity\"], data=datewise_orders)\n",
    "    plt.title( customer + \" date wise productline orders\", fontsize=21)\n",
    "    plt.xticks(rotation=90, fontsize=16)\n",
    "    plt.xlabel(\"productordered_datewise\", fontsize=16)\n",
    "    plt.show()\n",
    "    print(\"\\n\")\n",
    "    print(\"\\n\")\n",
    "    yearwise_salesamt = customer_df.groupby([\"order_year\"], as_index = False)[\"sales_amount\"].sum()\n",
    "    sns.barplot(x=yearwise_salesamt[\"order_year\"], y=yearwise_salesamt[\"sales_amount\"], data=yearwise_salesamt)\n",
    "    plt.title( customer + \" year wise sales amount\")\n",
    "    plt.xticks(rotation=90)\n",
    "    plt.show()\n",
    "    print(\"\\n\")\n",
    "    print(\"\\n\")\n",
    "    colors = sns.color_palette('pastel')\n",
    "    plt.pie(yearwise_salesamt[\"sales_amount\"], labels = yearwise_salesamt[\"order_year\"], colors = colors, autopct='%.0f%%')\n",
    "    plt.title( customer + \" year wise sales amount percentage\")\n",
    "    plt.xticks(rotation=90)\n",
    "    plt.show()\n",
    "    print(\"\\n\")\n",
    "    print(\"\\n\")\n",
    "    datewiseorders_dealsize = customer_df.groupby([\"order_date\", \"productline\"], as_index = False)[\"dealsize\"].value_counts()\n",
    "    datewiseorders_dealsize[\"productordered_datewise_dealsize\"] = datewiseorders_dealsize[\"productline\"] + \\\n",
    "    \" (\" + datewiseorders_dealsize[\"order_date\"] + \")\" + \" (\" + datewiseorders_dealsize[\"dealsize\"] + \" dealsize)\"\n",
    "    datewiseorders_dealsize.drop(columns=[\"order_date\", \"productline\", \"dealsize\"], inplace = True)\n",
    "    datewiseorders_dealsize = datewiseorders_dealsize[[\"productordered_datewise_dealsize\", \"count\"]]\n",
    "    plt.figure(figsize=(21, 15))\n",
    "    sns.barplot(x=datewiseorders_dealsize[\"productordered_datewise_dealsize\"], y=datewiseorders_dealsize[\"count\"], data=datewiseorders_dealsize)\n",
    "    plt.title( customer + \" date wise productline orders dealsize count\", fontsize=21)\n",
    "    plt.xticks(rotation=90, fontsize=16)\n",
    "    plt.xlabel(\"productordered_datewise_dealsize\", fontsize=16)\n",
    "    plt.show()\n",
    "    print(\"\\n\")\n",
    "    print(\"\\n\")\n",
    "    datewiseorders_status = customer_df.groupby([\"order_date\", \"productline\"], as_index = False)[\"order_status\"].value_counts()\n",
    "    datewiseorders_status[\"datewiseproductordered_status\"] = datewiseorders_status[\"productline\"] + \\\n",
    "    \" (\" + datewiseorders_status[\"order_date\"] + \")\" + \" (order status: \" + datewiseorders_status[\"order_status\"] + \")\"\n",
    "    datewiseorders_status.drop(columns=[\"order_date\", \"productline\", \"order_status\"], inplace = True)\n",
    "    datewiseorders_status = datewiseorders_status[[\"datewiseproductordered_status\", \"count\"]]\n",
    "    plt.figure(figsize=(21, 15))\n",
    "    sns.barplot(x=datewiseorders_status[\"datewiseproductordered_status\"], y=datewiseorders_status[\"count\"], data=datewiseorders_status)\n",
    "    plt.title( customer + \" date wise productline orders status count\", fontsize=21)\n",
    "    plt.xticks(rotation=90, fontsize=16)\n",
    "    plt.xlabel(\"datewiseproductordered_status\", fontsize=16)\n",
    "    plt.show()\n",
    "    print(\"\\n\")\n",
    "    print(\"\\n\")\n",
    "    print(\"\\n\")\n",
    "    print(\"\\n\")\n",
    "    print(\"\\n\")\n",
    "    \n"
   ]
  },
  {
   "cell_type": "markdown",
   "metadata": {},
   "source": [
    "# Descriptive Analytics\n",
    "## Plots for each productline in the dataset:\n",
    "* date wise orders\n",
    "* year wise sales amount\n",
    "* year wise sales amount percentage\n",
    "* date wise productline orders dealsize count\n",
    "* date wise productline orders status count"
   ]
  },
  {
   "cell_type": "code",
   "execution_count": null,
   "metadata": {},
   "outputs": [],
   "source": [
    "products = pd.unique(df_autosales[\"productline\"]).tolist()\n",
    "\n",
    "for product in products:\n",
    "    print(\"\\033[1m\",product,\"\\033[0m.\")\n",
    "    product_df = df_autosales[df_autosales[\"productline\"] == product]\n",
    "    plt.figure(figsize=(21, 15))\n",
    "    datewise_orders = product_df.groupby([\"order_date\"], as_index = False)[\"order_quantity\"].sum()\n",
    "    datewise_orders = datewise_orders[[\"order_date\", \"order_quantity\"]]\n",
    "    sns.barplot(x=datewise_orders[\"order_date\"], y=datewise_orders[\"order_quantity\"], data=datewise_orders)\n",
    "    plt.title( product + \" date wise orders\", fontsize=21)\n",
    "    plt.xticks(rotation=90, fontsize=16)\n",
    "    plt.xlabel(\"order_date\", fontsize=16)\n",
    "    plt.show()\n",
    "    print(\"\\n\")\n",
    "    print(\"\\n\")\n",
    "    yearwise_salesamt = product_df.groupby([\"order_year\"], as_index = False)[\"sales_amount\"].sum()\n",
    "    sns.barplot(x=yearwise_salesamt[\"order_year\"], y=yearwise_salesamt[\"sales_amount\"], data=yearwise_salesamt)\n",
    "    plt.title( product + \" year wise sales amount\")\n",
    "    plt.xticks(rotation=90)\n",
    "    plt.show()\n",
    "    print(\"\\n\")\n",
    "    print(\"\\n\")\n",
    "    colors = sns.color_palette('pastel')\n",
    "    plt.pie(yearwise_salesamt[\"sales_amount\"], labels = yearwise_salesamt[\"order_year\"], colors = colors, autopct='%.0f%%')\n",
    "    plt.title( product + \" year wise sales amount percentage\")\n",
    "    plt.xticks(rotation=90)\n",
    "    plt.show()\n",
    "    print(\"\\n\")\n",
    "    print(\"\\n\")\n",
    "    datewiseorders_dealsize = product_df.groupby([\"order_date\"], as_index = False)[\"dealsize\"].value_counts()\n",
    "    datewiseorders_dealsize = datewiseorders_dealsize[[\"order_date\", \"count\"]]\n",
    "    plt.figure(figsize=(21, 15))\n",
    "    sns.barplot(x=datewiseorders_dealsize[\"order_date\"], y=datewiseorders_dealsize[\"count\"], data=datewiseorders_dealsize)\n",
    "    plt.title( product + \" date wise orders dealsize count\", fontsize=21)\n",
    "    plt.xticks(rotation=90, fontsize=16)\n",
    "    plt.xlabel(\"order_date\", fontsize=16)\n",
    "    plt.show()\n",
    "    print(\"\\n\")\n",
    "    print(\"\\n\")\n",
    "    datewiseorders_status = product_df.groupby([\"order_date\"], as_index = False)[\"order_status\"].value_counts()\n",
    "    datewiseorders_status = datewiseorders_status[[\"order_date\", \"count\"]]\n",
    "    plt.figure(figsize=(21, 15))\n",
    "    sns.barplot(x=datewiseorders_status[\"order_date\"], y=datewiseorders_status[\"count\"], data=datewiseorders_status)\n",
    "    plt.title( product + \" date wise orders status count\", fontsize=21)\n",
    "    plt.xticks(rotation=90, fontsize=16)\n",
    "    plt.xlabel(\"order_date\", fontsize=16)\n",
    "    plt.show()\n",
    "    print(\"\\n\")\n",
    "    print(\"\\n\")\n",
    "    print(\"\\n\")\n",
    "    print(\"\\n\")\n",
    "    print(\"\\n\")"
   ]
  },
  {
   "cell_type": "markdown",
   "metadata": {},
   "source": [
    "## End\n",
    "### If you found this EDA to be interesting please do upvote my notebook\n",
    "### Also please do comment with your valuable feedback"
   ]
  }
 ],
 "metadata": {
  "kaggle": {
   "accelerator": "none",
   "dataSources": [
    {
     "datasetId": 4021193,
     "sourceId": 6995678,
     "sourceType": "datasetVersion"
    }
   ],
   "dockerImageVersionId": 30673,
   "isGpuEnabled": false,
   "isInternetEnabled": true,
   "language": "python",
   "sourceType": "notebook"
  },
  "kernelspec": {
   "display_name": "Python 3 (ipykernel)",
   "language": "python",
   "name": "python3"
  },
  "language_info": {
   "codemirror_mode": {
    "name": "ipython",
    "version": 3
   },
   "file_extension": ".py",
   "mimetype": "text/x-python",
   "name": "python",
   "nbconvert_exporter": "python",
   "pygments_lexer": "ipython3",
   "version": "3.11.8"
  }
 },
 "nbformat": 4,
 "nbformat_minor": 4
}
